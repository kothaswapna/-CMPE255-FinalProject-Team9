{
 "cells": [
  {
   "cell_type": "code",
   "execution_count": 22,
   "id": "6f6c6615",
   "metadata": {},
   "outputs": [],
   "source": [
    "import pandas as pd\n",
    "import matplotlib.pyplot as plt"
   ]
  },
  {
   "cell_type": "code",
   "execution_count": 23,
   "id": "06e43df3",
   "metadata": {},
   "outputs": [],
   "source": [
    "T_features = ['year', 't1', 't2', 't3', 't4', 't5', 't6', 't7', 't8', 't9', 't10', 't11', 't12', 't13', 't14', 't15', 't16', 't17', 't18', 't19', 't20', 't21', 't22', 't23', 't24', 't25', 't26', 't27', 't28', 't29', 't30', 't31', 't32', 't33', 't34', 't35', 't36 ', 't37', 't38', 't39', 't40', 't41', 't42', 't43', 't44', 't45', 't46', 't47', 't48', 't49', 't50', 't51', 't52', 't53' , 't54', 't55', 't56', 't57', 't58', 't59', 't60', 't61', 't62', 't63', 't64', 't65', 't66', 't67', 't68', 't69', 't70', 't71', 't72', 't73', 't74', 't75', 't76', 't77', 't78', 't79', 't80', 't81', 't82', 't83', 't84', 't85', 't86', 't87', 't88', 't89', 't90']\n",
    "# Given 90 features"
   ]
  },
  {
   "cell_type": "code",
   "execution_count": 24,
   "id": "229535c8",
   "metadata": {},
   "outputs": [],
   "source": [
    "# loading our database into a Pandas DataFrame object\n",
    "song_data = pd.read_csv(\"/Users/thanujkumarjanugani/Downloads/YearPredictionMSD_2.txt\", names=T_features)"
   ]
  },
  {
   "cell_type": "code",
   "execution_count": 25,
   "id": "7b80035f",
   "metadata": {},
   "outputs": [
    {
     "data": {
      "text/html": [
       "<div>\n",
       "<style scoped>\n",
       "    .dataframe tbody tr th:only-of-type {\n",
       "        vertical-align: middle;\n",
       "    }\n",
       "\n",
       "    .dataframe tbody tr th {\n",
       "        vertical-align: top;\n",
       "    }\n",
       "\n",
       "    .dataframe thead th {\n",
       "        text-align: right;\n",
       "    }\n",
       "</style>\n",
       "<table border=\"1\" class=\"dataframe\">\n",
       "  <thead>\n",
       "    <tr style=\"text-align: right;\">\n",
       "      <th></th>\n",
       "      <th>year</th>\n",
       "      <th>t1</th>\n",
       "      <th>t2</th>\n",
       "      <th>t3</th>\n",
       "      <th>t4</th>\n",
       "      <th>t5</th>\n",
       "      <th>t6</th>\n",
       "      <th>t7</th>\n",
       "      <th>t8</th>\n",
       "      <th>t9</th>\n",
       "      <th>t10</th>\n",
       "    </tr>\n",
       "  </thead>\n",
       "  <tbody>\n",
       "    <tr>\n",
       "      <th>50</th>\n",
       "      <td>2003</td>\n",
       "      <td>48.74021</td>\n",
       "      <td>58.47058</td>\n",
       "      <td>6.31415</td>\n",
       "      <td>-4.83502</td>\n",
       "      <td>-20.12980</td>\n",
       "      <td>-10.66583</td>\n",
       "      <td>-3.79006</td>\n",
       "      <td>-5.86413</td>\n",
       "      <td>-12.05891</td>\n",
       "      <td>-6.12167</td>\n",
       "    </tr>\n",
       "    <tr>\n",
       "      <th>51</th>\n",
       "      <td>2001</td>\n",
       "      <td>47.07198</td>\n",
       "      <td>11.08431</td>\n",
       "      <td>2.40665</td>\n",
       "      <td>-3.59094</td>\n",
       "      <td>-7.34207</td>\n",
       "      <td>-23.30182</td>\n",
       "      <td>-4.69296</td>\n",
       "      <td>-9.66001</td>\n",
       "      <td>-1.17057</td>\n",
       "      <td>-1.97378</td>\n",
       "    </tr>\n",
       "    <tr>\n",
       "      <th>52</th>\n",
       "      <td>2003</td>\n",
       "      <td>46.57028</td>\n",
       "      <td>40.21313</td>\n",
       "      <td>26.57595</td>\n",
       "      <td>-6.26195</td>\n",
       "      <td>4.39768</td>\n",
       "      <td>-11.51428</td>\n",
       "      <td>10.49994</td>\n",
       "      <td>-0.84929</td>\n",
       "      <td>6.39492</td>\n",
       "      <td>-1.54861</td>\n",
       "    </tr>\n",
       "    <tr>\n",
       "      <th>53</th>\n",
       "      <td>2001</td>\n",
       "      <td>50.38848</td>\n",
       "      <td>33.10541</td>\n",
       "      <td>-9.96038</td>\n",
       "      <td>-16.36960</td>\n",
       "      <td>3.72800</td>\n",
       "      <td>-27.46891</td>\n",
       "      <td>-10.35206</td>\n",
       "      <td>-7.59486</td>\n",
       "      <td>6.28963</td>\n",
       "      <td>3.99158</td>\n",
       "    </tr>\n",
       "    <tr>\n",
       "      <th>54</th>\n",
       "      <td>2003</td>\n",
       "      <td>46.90560</td>\n",
       "      <td>-14.39794</td>\n",
       "      <td>13.99280</td>\n",
       "      <td>1.34363</td>\n",
       "      <td>-16.92556</td>\n",
       "      <td>-13.65773</td>\n",
       "      <td>0.17184</td>\n",
       "      <td>-15.54375</td>\n",
       "      <td>8.09908</td>\n",
       "      <td>-3.35865</td>\n",
       "    </tr>\n",
       "    <tr>\n",
       "      <th>55</th>\n",
       "      <td>2003</td>\n",
       "      <td>48.17885</td>\n",
       "      <td>41.24859</td>\n",
       "      <td>0.54511</td>\n",
       "      <td>4.56058</td>\n",
       "      <td>-5.99131</td>\n",
       "      <td>-17.37135</td>\n",
       "      <td>12.71668</td>\n",
       "      <td>2.77777</td>\n",
       "      <td>10.86294</td>\n",
       "      <td>8.14324</td>\n",
       "    </tr>\n",
       "    <tr>\n",
       "      <th>56</th>\n",
       "      <td>2003</td>\n",
       "      <td>48.12588</td>\n",
       "      <td>10.30049</td>\n",
       "      <td>-0.28290</td>\n",
       "      <td>-3.53812</td>\n",
       "      <td>8.23451</td>\n",
       "      <td>-15.89021</td>\n",
       "      <td>-0.31856</td>\n",
       "      <td>-3.08992</td>\n",
       "      <td>0.58811</td>\n",
       "      <td>-2.70819</td>\n",
       "    </tr>\n",
       "    <tr>\n",
       "      <th>57</th>\n",
       "      <td>2003</td>\n",
       "      <td>44.22182</td>\n",
       "      <td>31.24939</td>\n",
       "      <td>12.98686</td>\n",
       "      <td>4.18576</td>\n",
       "      <td>-8.55989</td>\n",
       "      <td>-20.89608</td>\n",
       "      <td>23.92051</td>\n",
       "      <td>-0.90318</td>\n",
       "      <td>-0.27313</td>\n",
       "      <td>-0.74136</td>\n",
       "    </tr>\n",
       "    <tr>\n",
       "      <th>58</th>\n",
       "      <td>2003</td>\n",
       "      <td>41.80813</td>\n",
       "      <td>-0.46708</td>\n",
       "      <td>-34.72247</td>\n",
       "      <td>1.79426</td>\n",
       "      <td>-15.91473</td>\n",
       "      <td>0.58501</td>\n",
       "      <td>1.75419</td>\n",
       "      <td>-8.46113</td>\n",
       "      <td>8.44353</td>\n",
       "      <td>-2.99996</td>\n",
       "    </tr>\n",
       "    <tr>\n",
       "      <th>59</th>\n",
       "      <td>2003</td>\n",
       "      <td>44.20112</td>\n",
       "      <td>24.37638</td>\n",
       "      <td>-16.52952</td>\n",
       "      <td>-6.18728</td>\n",
       "      <td>0.32469</td>\n",
       "      <td>-26.69728</td>\n",
       "      <td>11.79268</td>\n",
       "      <td>0.93033</td>\n",
       "      <td>-2.40651</td>\n",
       "      <td>-2.84050</td>\n",
       "    </tr>\n",
       "  </tbody>\n",
       "</table>\n",
       "</div>"
      ],
      "text/plain": [
       "    year        t1        t2        t3        t4        t5        t6  \\\n",
       "50  2003  48.74021  58.47058   6.31415  -4.83502 -20.12980 -10.66583   \n",
       "51  2001  47.07198  11.08431   2.40665  -3.59094  -7.34207 -23.30182   \n",
       "52  2003  46.57028  40.21313  26.57595  -6.26195   4.39768 -11.51428   \n",
       "53  2001  50.38848  33.10541  -9.96038 -16.36960   3.72800 -27.46891   \n",
       "54  2003  46.90560 -14.39794  13.99280   1.34363 -16.92556 -13.65773   \n",
       "55  2003  48.17885  41.24859   0.54511   4.56058  -5.99131 -17.37135   \n",
       "56  2003  48.12588  10.30049  -0.28290  -3.53812   8.23451 -15.89021   \n",
       "57  2003  44.22182  31.24939  12.98686   4.18576  -8.55989 -20.89608   \n",
       "58  2003  41.80813  -0.46708 -34.72247   1.79426 -15.91473   0.58501   \n",
       "59  2003  44.20112  24.37638 -16.52952  -6.18728   0.32469 -26.69728   \n",
       "\n",
       "          t7        t8        t9      t10  \n",
       "50  -3.79006  -5.86413 -12.05891 -6.12167  \n",
       "51  -4.69296  -9.66001  -1.17057 -1.97378  \n",
       "52  10.49994  -0.84929   6.39492 -1.54861  \n",
       "53 -10.35206  -7.59486   6.28963  3.99158  \n",
       "54   0.17184 -15.54375   8.09908 -3.35865  \n",
       "55  12.71668   2.77777  10.86294  8.14324  \n",
       "56  -0.31856  -3.08992   0.58811 -2.70819  \n",
       "57  23.92051  -0.90318  -0.27313 -0.74136  \n",
       "58   1.75419  -8.46113   8.44353 -2.99996  \n",
       "59  11.79268   0.93033  -2.40651 -2.84050  "
      ]
     },
     "execution_count": 25,
     "metadata": {},
     "output_type": "execute_result"
    }
   ],
   "source": [
    "# Lets look at some part of data to get an idea\n",
    "song_data.iloc[50:60, 0:11]"
   ]
  },
  {
   "cell_type": "code",
   "execution_count": 26,
   "id": "eaa36f7f",
   "metadata": {},
   "outputs": [
    {
     "data": {
      "text/plain": [
       "(515345, 91)"
      ]
     },
     "execution_count": 26,
     "metadata": {},
     "output_type": "execute_result"
    }
   ],
   "source": [
    "song_data.shape"
   ]
  },
  {
   "cell_type": "code",
   "execution_count": 27,
   "id": "ecc97362",
   "metadata": {},
   "outputs": [],
   "source": [
    "pd.set_option('display.max_rows',None)"
   ]
  },
  {
   "cell_type": "code",
   "execution_count": 28,
   "id": "9e80f0a4",
   "metadata": {},
   "outputs": [
    {
     "data": {
      "text/plain": [
       "year    False\n",
       "t1      False\n",
       "t2      False\n",
       "t3      False\n",
       "t4      False\n",
       "t5      False\n",
       "t6      False\n",
       "t7      False\n",
       "t8      False\n",
       "t9      False\n",
       "t10     False\n",
       "t11     False\n",
       "t12     False\n",
       "t13     False\n",
       "t14     False\n",
       "t15     False\n",
       "t16     False\n",
       "t17     False\n",
       "t18     False\n",
       "t19     False\n",
       "t20     False\n",
       "t21     False\n",
       "t22     False\n",
       "t23     False\n",
       "t24     False\n",
       "t25     False\n",
       "t26     False\n",
       "t27     False\n",
       "t28     False\n",
       "t29     False\n",
       "t30     False\n",
       "t31     False\n",
       "t32     False\n",
       "t33     False\n",
       "t34     False\n",
       "t35     False\n",
       "t36     False\n",
       "t37     False\n",
       "t38     False\n",
       "t39     False\n",
       "t40     False\n",
       "t41     False\n",
       "t42     False\n",
       "t43     False\n",
       "t44     False\n",
       "t45     False\n",
       "t46     False\n",
       "t47     False\n",
       "t48     False\n",
       "t49     False\n",
       "t50     False\n",
       "t51     False\n",
       "t52     False\n",
       "t53     False\n",
       "t54     False\n",
       "t55     False\n",
       "t56     False\n",
       "t57     False\n",
       "t58     False\n",
       "t59     False\n",
       "t60     False\n",
       "t61     False\n",
       "t62     False\n",
       "t63     False\n",
       "t64     False\n",
       "t65     False\n",
       "t66     False\n",
       "t67     False\n",
       "t68     False\n",
       "t69     False\n",
       "t70     False\n",
       "t71     False\n",
       "t72     False\n",
       "t73     False\n",
       "t74     False\n",
       "t75     False\n",
       "t76     False\n",
       "t77     False\n",
       "t78     False\n",
       "t79     False\n",
       "t80     False\n",
       "t81     False\n",
       "t82     False\n",
       "t83     False\n",
       "t84     False\n",
       "t85     False\n",
       "t86     False\n",
       "t87     False\n",
       "t88     False\n",
       "t89     False\n",
       "t90     False\n",
       "dtype: bool"
      ]
     },
     "execution_count": 28,
     "metadata": {},
     "output_type": "execute_result"
    }
   ],
   "source": [
    "# Checking for any null values. No null values present in the dataset\n",
    "song_data.isna().any()"
   ]
  },
  {
   "cell_type": "code",
   "execution_count": 30,
   "id": "98ac5b51",
   "metadata": {},
   "outputs": [
    {
     "name": "stdout",
     "output_type": "stream",
     "text": [
      "Year=1922, numberofsongs=6\n",
      "Year=1923, numberofsongs=0\n",
      "Year=1924, numberofsongs=5\n",
      "Year=1925, numberofsongs=7\n",
      "Year=1926, numberofsongs=19\n",
      "Year=1927, numberofsongs=42\n",
      "Year=1928, numberofsongs=52\n",
      "Year=1929, numberofsongs=93\n",
      "Year=1930, numberofsongs=40\n",
      "Year=1931, numberofsongs=35\n",
      "Year=1932, numberofsongs=11\n",
      "Year=1933, numberofsongs=6\n",
      "Year=1934, numberofsongs=29\n",
      "Year=1935, numberofsongs=24\n",
      "Year=1936, numberofsongs=25\n",
      "Year=1937, numberofsongs=28\n",
      "Year=1938, numberofsongs=19\n",
      "Year=1939, numberofsongs=35\n",
      "Year=1940, numberofsongs=52\n",
      "Year=1941, numberofsongs=32\n",
      "Year=1942, numberofsongs=24\n",
      "Year=1943, numberofsongs=14\n",
      "Year=1944, numberofsongs=15\n",
      "Year=1945, numberofsongs=30\n",
      "Year=1946, numberofsongs=29\n",
      "Year=1947, numberofsongs=57\n",
      "Year=1948, numberofsongs=43\n",
      "Year=1949, numberofsongs=60\n",
      "Year=1950, numberofsongs=83\n",
      "Year=1951, numberofsongs=74\n",
      "Year=1952, numberofsongs=77\n",
      "Year=1953, numberofsongs=133\n",
      "Year=1954, numberofsongs=123\n",
      "Year=1955, numberofsongs=275\n",
      "Year=1956, numberofsongs=565\n",
      "Year=1957, numberofsongs=597\n",
      "Year=1958, numberofsongs=583\n",
      "Year=1959, numberofsongs=592\n",
      "Year=1960, numberofsongs=424\n",
      "Year=1961, numberofsongs=571\n",
      "Year=1962, numberofsongs=605\n",
      "Year=1963, numberofsongs=902\n",
      "Year=1964, numberofsongs=945\n",
      "Year=1965, numberofsongs=1120\n",
      "Year=1966, numberofsongs=1377\n",
      "Year=1967, numberofsongs=1718\n",
      "Year=1968, numberofsongs=1867\n",
      "Year=1969, numberofsongs=2210\n",
      "Year=1970, numberofsongs=2349\n",
      "Year=1971, numberofsongs=2131\n",
      "Year=1972, numberofsongs=2288\n",
      "Year=1973, numberofsongs=2596\n",
      "Year=1974, numberofsongs=2184\n",
      "Year=1975, numberofsongs=2482\n",
      "Year=1976, numberofsongs=2179\n",
      "Year=1977, numberofsongs=2502\n",
      "Year=1978, numberofsongs=2926\n",
      "Year=1979, numberofsongs=3108\n",
      "Year=1980, numberofsongs=3101\n",
      "Year=1981, numberofsongs=3162\n",
      "Year=1982, numberofsongs=3597\n",
      "Year=1983, numberofsongs=3386\n",
      "Year=1984, numberofsongs=3368\n",
      "Year=1985, numberofsongs=3578\n",
      "Year=1986, numberofsongs=4219\n",
      "Year=1987, numberofsongs=5122\n",
      "Year=1988, numberofsongs=5611\n",
      "Year=1989, numberofsongs=6670\n",
      "Year=1990, numberofsongs=7256\n",
      "Year=1991, numberofsongs=8647\n",
      "Year=1992, numberofsongs=9543\n",
      "Year=1993, numberofsongs=10525\n",
      "Year=1994, numberofsongs=12121\n",
      "Year=1995, numberofsongs=13257\n",
      "Year=1996, numberofsongs=14130\n",
      "Year=1997, numberofsongs=15182\n",
      "Year=1998, numberofsongs=15814\n",
      "Year=1999, numberofsongs=18238\n",
      "Year=2000, numberofsongs=19285\n",
      "Year=2001, numberofsongs=21590\n",
      "Year=2002, numberofsongs=23451\n",
      "Year=2003, numberofsongs=27382\n",
      "Year=2004, numberofsongs=29607\n",
      "Year=2005, numberofsongs=34952\n",
      "Year=2006, numberofsongs=37534\n",
      "Year=2007, numberofsongs=39404\n",
      "Year=2008, numberofsongs=34760\n",
      "Year=2009, numberofsongs=31038\n",
      "Year=2010, numberofsongs=9396\n",
      "Year=2011, numberofsongs=1\n"
     ]
    }
   ],
   "source": [
    "numberofsongs = {}\n",
    "for y in range(1922,2012):\n",
    "    numberofsongs[y] = len(song_data[song_data.year==y])\n",
    "    print (\"Year=%d, numberofsongs=%d\" % (y, numberofsongs[y]))"
   ]
  },
  {
   "cell_type": "code",
   "execution_count": 31,
   "id": "00e7d7ef",
   "metadata": {},
   "outputs": [
    {
     "data": {
      "text/plain": [
       "Text(0, 0.5, 'Number of songs')"
      ]
     },
     "execution_count": 31,
     "metadata": {},
     "output_type": "execute_result"
    },
    {
     "data": {
      "image/png": "[encoded data removed]",
      "text/plain": [
       "<Figure size 432x288 with 1 Axes>"
      ]
     },
     "metadata": {
      "needs_background": "light"
     },
     "output_type": "display_data"
    }
   ],
   "source": [
    "years = range(1922,2012)\n",
    "v = [numberofsongs[y] for y in years]\n",
    "plt.bar(years, v, align='center')\n",
    "plt.xlabel(\"Year\")\n",
    "plt.ylabel(\"Number of songs\")"
   ]
  },
  {
   "cell_type": "code",
   "execution_count": 32,
   "id": "f40f7063",
   "metadata": {},
   "outputs": [
    {
     "data": {
      "text/plain": [
       "<matplotlib.legend.Legend at 0x7fcc34c34970>"
      ]
     },
     "execution_count": 32,
     "metadata": {},
     "output_type": "execute_result"
    },
    {
     "data": {
      "image/png": "[encoded data removed]",
      "text/plain": [
       "<Figure size 432x288 with 1 Axes>"
      ]
     },
     "metadata": {
      "needs_background": "light"
     },
     "output_type": "display_data"
    }
   ],
   "source": [
    "# plotting 10 features and checking how the sorted values are distributed across the songs\n",
    "for t in T_features[1:10]:\n",
    "    y_values = song_data[t]\n",
    "    plt.plot(sorted(y_values), label=t, linewidth=1)\n",
    "\n",
    "plt.legend(loc='upper center', bbox_to_anchor=(0.5, 1.05), ncol=3, fancybox=True, shadow=True)"
   ]
  },
  {
   "cell_type": "code",
   "execution_count": 37,
   "id": "6703dd10",
   "metadata": {},
   "outputs": [],
   "source": [
    "X = data.iloc[:,1:]  # X contains 90 columns\n",
    "Y = data.iloc[:,0]  # Y contains year column\n",
    "\n",
    "# data normalizations (scaling down all values to the interval [0,1])\n",
    "# The years 1922-2011 are scaled down to integers [0,1,2,..., 89] \n",
    "\n",
    "X = (X - X.min()) / (X.max() - X.min())  # all values are between 0 and 1 \n",
    "Y = Y - Y.min()        # The years 1922-2011 are mapped to 0-89\n",
    "\n",
    "# Training _data set\n",
    "X_train_data = X[0:463715]\n",
    "y_train_data = Y[0:463715]\n",
    "\n",
    "# Validation _data set\n",
    "X_test_data = X[463715:]\n",
    "y_test_data = Y[463715:]"
   ]
  },
  {
   "cell_type": "code",
   "execution_count": 39,
   "id": "58e45ed0",
   "metadata": {},
   "outputs": [
    {
     "data": {
      "text/plain": [
       "(463715, 90)"
      ]
     },
     "execution_count": 39,
     "metadata": {},
     "output_type": "execute_result"
    }
   ],
   "source": [
    "X_train_data.shape"
   ]
  },
  {
   "cell_type": "code",
   "execution_count": 41,
   "id": "eeb1f799",
   "metadata": {},
   "outputs": [
    {
     "data": {
      "text/html": [
       "<div>\n",
       "<style scoped>\n",
       "    .dataframe tbody tr th:only-of-type {\n",
       "        vertical-align: middle;\n",
       "    }\n",
       "\n",
       "    .dataframe tbody tr th {\n",
       "        vertical-align: top;\n",
       "    }\n",
       "\n",
       "    .dataframe thead th {\n",
       "        text-align: right;\n",
       "    }\n",
       "</style>\n",
       "<table border=\"1\" class=\"dataframe\">\n",
       "  <thead>\n",
       "    <tr style=\"text-align: right;\">\n",
       "      <th></th>\n",
       "      <th>t1</th>\n",
       "      <th>t2</th>\n",
       "      <th>t3</th>\n",
       "      <th>t4</th>\n",
       "      <th>t5</th>\n",
       "      <th>t6</th>\n",
       "      <th>t7</th>\n",
       "      <th>t8</th>\n",
       "      <th>t9</th>\n",
       "      <th>t10</th>\n",
       "      <th>...</th>\n",
       "      <th>t81</th>\n",
       "      <th>t82</th>\n",
       "      <th>t83</th>\n",
       "      <th>t84</th>\n",
       "      <th>t85</th>\n",
       "      <th>t86</th>\n",
       "      <th>t87</th>\n",
       "      <th>t88</th>\n",
       "      <th>t89</th>\n",
       "      <th>t90</th>\n",
       "    </tr>\n",
       "  </thead>\n",
       "  <tbody>\n",
       "    <tr>\n",
       "      <th>0</th>\n",
       "      <td>0.800293</td>\n",
       "      <td>0.497205</td>\n",
       "      <td>0.599629</td>\n",
       "      <td>0.332545</td>\n",
       "      <td>0.370583</td>\n",
       "      <td>0.276962</td>\n",
       "      <td>0.452564</td>\n",
       "      <td>0.302498</td>\n",
       "      <td>0.492380</td>\n",
       "      <td>0.384046</td>\n",
       "      <td>...</td>\n",
       "      <td>0.352499</td>\n",
       "      <td>0.490087</td>\n",
       "      <td>0.372344</td>\n",
       "      <td>0.644339</td>\n",
       "      <td>0.569286</td>\n",
       "      <td>0.460524</td>\n",
       "      <td>0.613453</td>\n",
       "      <td>0.334855</td>\n",
       "      <td>0.500338</td>\n",
       "      <td>0.362200</td>\n",
       "    </tr>\n",
       "    <tr>\n",
       "      <th>1</th>\n",
       "      <td>0.780177</td>\n",
       "      <td>0.492987</td>\n",
       "      <td>0.595220</td>\n",
       "      <td>0.341113</td>\n",
       "      <td>0.386532</td>\n",
       "      <td>0.229635</td>\n",
       "      <td>0.546232</td>\n",
       "      <td>0.359274</td>\n",
       "      <td>0.532466</td>\n",
       "      <td>0.453276</td>\n",
       "      <td>...</td>\n",
       "      <td>0.346752</td>\n",
       "      <td>0.494001</td>\n",
       "      <td>0.367177</td>\n",
       "      <td>0.650031</td>\n",
       "      <td>0.550999</td>\n",
       "      <td>0.459186</td>\n",
       "      <td>0.613745</td>\n",
       "      <td>0.354687</td>\n",
       "      <td>0.506122</td>\n",
       "      <td>0.385477</td>\n",
       "    </tr>\n",
       "    <tr>\n",
       "      <th>2</th>\n",
       "      <td>0.817124</td>\n",
       "      <td>0.511606</td>\n",
       "      <td>0.571964</td>\n",
       "      <td>0.342073</td>\n",
       "      <td>0.394968</td>\n",
       "      <td>0.254988</td>\n",
       "      <td>0.512831</td>\n",
       "      <td>0.352096</td>\n",
       "      <td>0.522585</td>\n",
       "      <td>0.421927</td>\n",
       "      <td>...</td>\n",
       "      <td>0.344695</td>\n",
       "      <td>0.499157</td>\n",
       "      <td>0.350453</td>\n",
       "      <td>0.643421</td>\n",
       "      <td>0.567316</td>\n",
       "      <td>0.470228</td>\n",
       "      <td>0.587814</td>\n",
       "      <td>0.337376</td>\n",
       "      <td>0.504859</td>\n",
       "      <td>0.359438</td>\n",
       "    </tr>\n",
       "    <tr>\n",
       "      <th>3</th>\n",
       "      <td>0.772129</td>\n",
       "      <td>0.464800</td>\n",
       "      <td>0.540674</td>\n",
       "      <td>0.319971</td>\n",
       "      <td>0.411973</td>\n",
       "      <td>0.224074</td>\n",
       "      <td>0.535929</td>\n",
       "      <td>0.311991</td>\n",
       "      <td>0.476686</td>\n",
       "      <td>0.345849</td>\n",
       "      <td>...</td>\n",
       "      <td>0.369357</td>\n",
       "      <td>0.476865</td>\n",
       "      <td>0.357216</td>\n",
       "      <td>0.631499</td>\n",
       "      <td>0.546663</td>\n",
       "      <td>0.475993</td>\n",
       "      <td>0.593813</td>\n",
       "      <td>0.351622</td>\n",
       "      <td>0.515629</td>\n",
       "      <td>0.377862</td>\n",
       "    </tr>\n",
       "    <tr>\n",
       "      <th>4</th>\n",
       "      <td>0.817341</td>\n",
       "      <td>0.525963</td>\n",
       "      <td>0.590047</td>\n",
       "      <td>0.331972</td>\n",
       "      <td>0.374082</td>\n",
       "      <td>0.261984</td>\n",
       "      <td>0.487309</td>\n",
       "      <td>0.316833</td>\n",
       "      <td>0.509999</td>\n",
       "      <td>0.417425</td>\n",
       "      <td>...</td>\n",
       "      <td>0.350082</td>\n",
       "      <td>0.489912</td>\n",
       "      <td>0.373525</td>\n",
       "      <td>0.637490</td>\n",
       "      <td>0.564964</td>\n",
       "      <td>0.462806</td>\n",
       "      <td>0.611127</td>\n",
       "      <td>0.348736</td>\n",
       "      <td>0.505936</td>\n",
       "      <td>0.387203</td>\n",
       "    </tr>\n",
       "  </tbody>\n",
       "</table>\n",
       "<p>5 rows × 90 columns</p>\n",
       "</div>"
      ],
      "text/plain": [
       "         t1        t2        t3        t4        t5        t6        t7  \\\n",
       "0  0.800293  0.497205  0.599629  0.332545  0.370583  0.276962  0.452564   \n",
       "1  0.780177  0.492987  0.595220  0.341113  0.386532  0.229635  0.546232   \n",
       "2  0.817124  0.511606  0.571964  0.342073  0.394968  0.254988  0.512831   \n",
       "3  0.772129  0.464800  0.540674  0.319971  0.411973  0.224074  0.535929   \n",
       "4  0.817341  0.525963  0.590047  0.331972  0.374082  0.261984  0.487309   \n",
       "\n",
       "         t8        t9       t10  ...       t81       t82       t83       t84  \\\n",
       "0  0.302498  0.492380  0.384046  ...  0.352499  0.490087  0.372344  0.644339   \n",
       "1  0.359274  0.532466  0.453276  ...  0.346752  0.494001  0.367177  0.650031   \n",
       "2  0.352096  0.522585  0.421927  ...  0.344695  0.499157  0.350453  0.643421   \n",
       "3  0.311991  0.476686  0.345849  ...  0.369357  0.476865  0.357216  0.631499   \n",
       "4  0.316833  0.509999  0.417425  ...  0.350082  0.489912  0.373525  0.637490   \n",
       "\n",
       "        t85       t86       t87       t88       t89       t90  \n",
       "0  0.569286  0.460524  0.613453  0.334855  0.500338  0.362200  \n",
       "1  0.550999  0.459186  0.613745  0.354687  0.506122  0.385477  \n",
       "2  0.567316  0.470228  0.587814  0.337376  0.504859  0.359438  \n",
       "3  0.546663  0.475993  0.593813  0.351622  0.515629  0.377862  \n",
       "4  0.564964  0.462806  0.611127  0.348736  0.505936  0.387203  \n",
       "\n",
       "[5 rows x 90 columns]"
      ]
     },
     "execution_count": 41,
     "metadata": {},
     "output_type": "execute_result"
    }
   ],
   "source": [
    "X_train_data.head()"
   ]
  },
  {
   "cell_type": "code",
   "execution_count": 52,
   "id": "92c840da",
   "metadata": {},
   "outputs": [
    {
     "data": {
      "text/plain": [
       "<matplotlib.legend.Legend at 0x7fcbe55b5fa0>"
      ]
     },
     "execution_count": 52,
     "metadata": {},
     "output_type": "execute_result"
    },
    {
     "data": {
      "image/png": "[encoded data removed]",
      "text/plain": [
       "<Figure size 432x288 with 1 Axes>"
      ]
     },
     "metadata": {
      "needs_background": "light"
     },
     "output_type": "display_data"
    }
   ],
   "source": [
    "#plotting 50 samples from 100 to 149\n",
    "for i in range(100, 150):\n",
    "    plt.plot(X_train.loc[i], label='song_' + str(i))\n",
    "    \n",
    "plt.xlabel(\"Feature_label\")\n",
    "plt.ylabel(\"Value\")\n",
    "plt.legend(loc='upper center', bbox_to_anchor=(0.9, 1.0), ncol=5, fancybox=True, shadow=True, fontsize=10)"
   ]
  },
  {
   "cell_type": "code",
   "execution_count": 51,
   "id": "df92f40b",
   "metadata": {},
   "outputs": [
    {
     "data": {
      "text/plain": [
       "[<matplotlib.lines.Line2D at 0x7fcbea537c70>]"
      ]
     },
     "execution_count": 51,
     "metadata": {},
     "output_type": "execute_result"
    },
    {
     "data": {
      "image/png": "[encoded data removed]",
      "text/plain": [
       "<Figure size 432x288 with 1 Axes>"
      ]
     },
     "metadata": {
      "needs_background": "light"
     },
     "output_type": "display_data"
    }
   ],
   "source": [
    "#plot the sorted data and see if they range between 0 and 89:\n",
    "plt.plot(sorted(y_train_data))"
   ]
  },
  {
   "cell_type": "code",
   "execution_count": null,
   "id": "ea0d28fd",
   "metadata": {},
   "outputs": [],
   "source": []
  }
 ],
 "metadata": {
  "kernelspec": {
   "display_name": "Python 3 (ipykernel)",
   "language": "python",
   "name": "python3"
  },
  "language_info": {
   "codemirror_mode": {
    "name": "ipython",
    "version": 3
   },
   "file_extension": ".py",
   "mimetype": "text/x-python",
   "name": "python",
   "nbconvert_exporter": "python",
   "pygments_lexer": "ipython3",
   "version": "3.9.12"
  }
 },
 "nbformat": 4,
 "nbformat_minor": 5
}
